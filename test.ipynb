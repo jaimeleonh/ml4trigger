{
 "cells": [
  {
   "cell_type": "code",
   "execution_count": 7,
   "metadata": {},
   "outputs": [],
   "source": [
    "import tensorflow as tf\n",
    "from tensorflow import keras\n",
    "from tensorflow.keras import layers\n",
    "import numpy as np\n",
    "import json\n",
    "import ROOT\n",
    "\n",
    "import random\n",
    "random.seed(1)\n",
    "\n",
    "np.random.seed(1)\n",
    "\n",
    "import os\n",
    "os.environ['PYTHONHASHSEED']=str(1)\n",
    "\n",
    "tf.random.set_seed(1)"
   ]
  },
  {
   "cell_type": "code",
   "execution_count": 8,
   "metadata": {},
   "outputs": [],
   "source": [
    "with open(\"paths3hits.json\") as f:\n",
    "    paths = json.load(f)"
   ]
  },
  {
   "cell_type": "code",
   "execution_count": 46,
   "metadata": {},
   "outputs": [],
   "source": [
    "tol = 15\n",
    "peak_time = 500\n",
    "\n",
    "evs = int(.8 * len(paths))\n",
    "\n",
    "x_train = np.array([[paths[ev][:-1]] for ev in range(evs) if paths[ev][-1] != -1])\n",
    "y_train = np.array([[0 if abs(paths[ev][-1] - peak_time) > tol else 1] for ev in range(evs) if paths[ev][-1] != -1])\n",
    "\n",
    "# x_train = np.array([[paths[ev][:-1]] for ev in range(evs)])\n",
    "# y_train = np.array([[0 if abs(paths[ev][-1] - peak_time) > tol else 1] for ev in range(evs)])\n",
    "\n",
    "x_valid = np.array([[paths[ev][:-1]] for ev in range(evs, len(paths)) if paths[ev][-1] != -1])\n",
    "y_valid = np.array([[0 if abs(paths[ev][-1] - peak_time) > tol else 1] for ev in range(evs, len(paths)) if paths[ev][-1] != -1])\n",
    "\n",
    "# x_valid = np.array([[paths[ev][:-1]] for ev in range(evs, len(paths))])\n",
    "# y_valid = np.array([[0 if abs(paths[ev][-1] - peak_time) > tol else 1] for ev in range(evs, len(paths))])"
   ]
  },
  {
   "cell_type": "code",
   "execution_count": 34,
   "metadata": {},
   "outputs": [],
   "source": [
    "def create_simple_nn():  \n",
    "  model = keras.Sequential()\n",
    "  model.add(layers.Dense(10, activation='relu', name=\"Hidden_layer_1\"))\n",
    "  model.add(layers.BatchNormalization())\n",
    "  model.add(layers.Dense(20, activation='relu', name=\"Hidden_layer_2\"))\n",
    "  model.add(layers.Dense(10, activation='relu', name=\"Hidden_layer_3\"))\n",
    "  model.add(layers.Dense(1, name=\"Output_layer\"))\n",
    "  model.add(layers.BatchNormalization())\n",
    "\n",
    "  return model"
   ]
  },
  {
   "cell_type": "code",
   "execution_count": 35,
   "metadata": {},
   "outputs": [],
   "source": [
    "snn_model = create_simple_nn()\n",
    "snn_model.compile(loss='binary_crossentropy', optimizer='adam', metrics=['acc', 'mse'])"
   ]
  },
  {
   "cell_type": "code",
   "execution_count": 36,
   "metadata": {},
   "outputs": [
    {
     "name": "stdout",
     "output_type": "stream",
     "text": [
      "Epoch 1/40\n",
      "7957/7957 [==============================] - 16s 2ms/step - acc: 0.6416 - loss: 1.5565 - mse: 1.0163 - val_mse: 0.8325 - val_acc: 0.6499 - val_loss: 1.0690\n",
      "Epoch 2/40\n",
      "7957/7957 [==============================] - 16s 2ms/step - acc: 0.6432 - loss: 0.8890 - mse: 0.4233 - val_mse: 0.2065 - val_acc: 0.6658 - val_loss: 0.5962\n",
      "Epoch 3/40\n",
      "7957/7957 [==============================] - 15s 2ms/step - acc: 0.6636 - loss: 0.5983 - mse: 0.2060 - val_mse: 0.1973 - val_acc: 0.6806 - val_loss: 0.5756\n",
      "Epoch 4/40\n",
      "7957/7957 [==============================] - 15s 2ms/step - acc: 0.6794 - loss: 0.5809 - mse: 0.1984 - val_mse: 0.2060 - val_acc: 0.6733 - val_loss: 0.5976\n",
      "Epoch 5/40\n",
      "7957/7957 [==============================] - 15s 2ms/step - acc: 0.6838 - loss: 0.5762 - mse: 0.1963 - val_mse: 0.1886 - val_acc: 0.6966 - val_loss: 0.5545\n",
      "Epoch 6/40\n",
      "7957/7957 [==============================] - 15s 2ms/step - acc: 0.6931 - loss: 0.5641 - mse: 0.1916 - val_mse: 0.1912 - val_acc: 0.6996 - val_loss: 0.5627\n",
      "Epoch 7/40\n",
      "7957/7957 [==============================] - 15s 2ms/step - acc: 0.6932 - loss: 0.5645 - mse: 0.1917 - val_mse: 0.2131 - val_acc: 0.6668 - val_loss: 0.6154\n",
      "Epoch 8/40\n",
      "7957/7957 [==============================] - 15s 2ms/step - acc: 0.6959 - loss: 0.5631 - mse: 0.1912 - val_mse: 0.1795 - val_acc: 0.7183 - val_loss: 0.5333\n",
      "Epoch 9/40\n",
      "7957/7957 [==============================] - 15s 2ms/step - acc: 0.7089 - loss: 0.5471 - mse: 0.1841 - val_mse: 0.1761 - val_acc: 0.7242 - val_loss: 0.5253\n",
      "Epoch 10/40\n",
      "7957/7957 [==============================] - 15s 2ms/step - acc: 0.6904 - loss: 0.5685 - mse: 0.1935 - val_mse: 0.1967 - val_acc: 0.6875 - val_loss: 0.5796\n",
      "Epoch 11/40\n",
      "7957/7957 [==============================] - 15s 2ms/step - acc: 0.7076 - loss: 0.5506 - mse: 0.1857 - val_mse: 0.1763 - val_acc: 0.7217 - val_loss: 0.5264\n",
      "Epoch 12/40\n",
      "7957/7957 [==============================] - 16s 2ms/step - acc: 0.6888 - loss: 0.5735 - mse: 0.1954 - val_mse: 0.1799 - val_acc: 0.7161 - val_loss: 0.5336\n",
      "Epoch 13/40\n",
      "7957/7957 [==============================] - 15s 2ms/step - acc: 0.7094 - loss: 0.5478 - mse: 0.1844 - val_mse: 0.2150 - val_acc: 0.6516 - val_loss: 0.6178\n",
      "Epoch 14/40\n",
      "7957/7957 [==============================] - 15s 2ms/step - acc: 0.7079 - loss: 0.5471 - mse: 0.1842 - val_mse: 0.1735 - val_acc: 0.7299 - val_loss: 0.5226\n",
      "Epoch 15/40\n",
      "7957/7957 [==============================] - 15s 2ms/step - acc: 0.7167 - loss: 0.5393 - mse: 0.1806 - val_mse: 0.1807 - val_acc: 0.7247 - val_loss: 0.5395\n",
      "Epoch 16/40\n",
      "7957/7957 [==============================] - 15s 2ms/step - acc: 0.7112 - loss: 0.5461 - mse: 0.1840 - val_mse: 0.1822 - val_acc: 0.7138 - val_loss: 0.5431\n",
      "Epoch 17/40\n",
      "7957/7957 [==============================] - 15s 2ms/step - acc: 0.7151 - loss: 0.5408 - mse: 0.1817 - val_mse: 0.1710 - val_acc: 0.7359 - val_loss: 0.5139\n",
      "Epoch 18/40\n",
      "7957/7957 [==============================] - 15s 2ms/step - acc: 0.7163 - loss: 0.5384 - mse: 0.1807 - val_mse: 0.1706 - val_acc: 0.7356 - val_loss: 0.5126\n",
      "Epoch 19/40\n",
      "7957/7957 [==============================] - 14s 2ms/step - acc: 0.7240 - loss: 0.5340 - mse: 0.1783 - val_mse: 0.1877 - val_acc: 0.7140 - val_loss: 0.5565\n",
      "Epoch 20/40\n",
      "7957/7957 [==============================] - 15s 2ms/step - acc: 0.7197 - loss: 0.5350 - mse: 0.1794 - val_mse: 0.1704 - val_acc: 0.7369 - val_loss: 0.5113\n",
      "Epoch 21/40\n",
      "7957/7957 [==============================] - 15s 2ms/step - acc: 0.7233 - loss: 0.5347 - mse: 0.1783 - val_mse: 0.1689 - val_acc: 0.7411 - val_loss: 0.5098\n",
      "Epoch 22/40\n",
      "7957/7957 [==============================] - 15s 2ms/step - acc: 0.7256 - loss: 0.5301 - mse: 0.1772 - val_mse: 0.1714 - val_acc: 0.7314 - val_loss: 0.5138\n",
      "Epoch 23/40\n",
      "7957/7957 [==============================] - 14s 2ms/step - acc: 0.7273 - loss: 0.5290 - mse: 0.1765 - val_mse: 0.1676 - val_acc: 0.7427 - val_loss: 0.5057\n",
      "Epoch 24/40\n",
      "7957/7957 [==============================] - 15s 2ms/step - acc: 0.7262 - loss: 0.5301 - mse: 0.1772 - val_mse: 0.1695 - val_acc: 0.7356 - val_loss: 0.5086\n",
      "Epoch 25/40\n",
      "7957/7957 [==============================] - 15s 2ms/step - acc: 0.7316 - loss: 0.5232 - mse: 0.1742 - val_mse: 0.1672 - val_acc: 0.7402 - val_loss: 0.5050\n",
      "Epoch 26/40\n",
      "7957/7957 [==============================] - 14s 2ms/step - acc: 0.7179 - loss: 0.5425 - mse: 0.1824 - val_mse: 0.1703 - val_acc: 0.7380 - val_loss: 0.5115\n",
      "Epoch 27/40\n",
      "7957/7957 [==============================] - 14s 2ms/step - acc: 0.7175 - loss: 0.5407 - mse: 0.1821 - val_mse: 0.1776 - val_acc: 0.7311 - val_loss: 0.5308\n",
      "Epoch 28/40\n",
      "7957/7957 [==============================] - 15s 2ms/step - acc: 0.7285 - loss: 0.5250 - mse: 0.1755 - val_mse: 0.1663 - val_acc: 0.7447 - val_loss: 0.4998\n",
      "Epoch 29/40\n",
      "7957/7957 [==============================] - 14s 2ms/step - acc: 0.7313 - loss: 0.5226 - mse: 0.1743 - val_mse: 0.1904 - val_acc: 0.7009 - val_loss: 0.5625\n",
      "Epoch 30/40\n",
      "7957/7957 [==============================] - 14s 2ms/step - acc: 0.7318 - loss: 0.5221 - mse: 0.1740 - val_mse: 0.1667 - val_acc: 0.7416 - val_loss: 0.5013\n",
      "Epoch 31/40\n",
      "7957/7957 [==============================] - 14s 2ms/step - acc: 0.7292 - loss: 0.5272 - mse: 0.1761 - val_mse: 0.1705 - val_acc: 0.7361 - val_loss: 0.5089\n",
      "Epoch 32/40\n",
      "7957/7957 [==============================] - 14s 2ms/step - acc: 0.7326 - loss: 0.5215 - mse: 0.1741 - val_mse: 0.1657 - val_acc: 0.7479 - val_loss: 0.4986\n",
      "Epoch 33/40\n",
      "7957/7957 [==============================] - 14s 2ms/step - acc: 0.7340 - loss: 0.5198 - mse: 0.1733 - val_mse: 0.1657 - val_acc: 0.7447 - val_loss: 0.4997\n",
      "Epoch 34/40\n",
      "7957/7957 [==============================] - 14s 2ms/step - acc: 0.7316 - loss: 0.5228 - mse: 0.1745 - val_mse: 0.1746 - val_acc: 0.7359 - val_loss: 0.5232\n",
      "Epoch 35/40\n",
      "7957/7957 [==============================] - 15s 2ms/step - acc: 0.7319 - loss: 0.5228 - mse: 0.1746 - val_mse: 0.1651 - val_acc: 0.7484 - val_loss: 0.4975\n",
      "Epoch 36/40\n",
      "7957/7957 [==============================] - 15s 2ms/step - acc: 0.7357 - loss: 0.5177 - mse: 0.1722 - val_mse: 0.1654 - val_acc: 0.7472 - val_loss: 0.4973\n",
      "Epoch 37/40\n",
      "7957/7957 [==============================] - 14s 2ms/step - acc: 0.7344 - loss: 0.5198 - mse: 0.1732 - val_mse: 0.1658 - val_acc: 0.7469 - val_loss: 0.5004\n",
      "Epoch 38/40\n",
      "7957/7957 [==============================] - 15s 2ms/step - acc: 0.7285 - loss: 0.5251 - mse: 0.1757 - val_mse: 0.1666 - val_acc: 0.7405 - val_loss: 0.5018\n",
      "Epoch 39/40\n",
      "7957/7957 [==============================] - 15s 2ms/step - acc: 0.7324 - loss: 0.5198 - mse: 0.1733 - val_mse: 0.1647 - val_acc: 0.7473 - val_loss: 0.4968\n",
      "Epoch 40/40\n",
      "7957/7957 [==============================] - 15s 2ms/step - acc: 0.7351 - loss: 0.5179 - mse: 0.1726 - val_mse: 0.1671 - val_acc: 0.7443 - val_loss: 0.5020\n"
     ]
    }
   ],
   "source": [
    "\n",
    "snn = snn_model.fit(x=x_train, y=y_train, batch_size=64, epochs=40, verbose=1, validation_data=(x_valid, y_valid), shuffle=False)"
   ]
  },
  {
   "cell_type": "code",
   "execution_count": 48,
   "metadata": {},
   "outputs": [
    {
     "name": "stdout",
     "output_type": "stream",
     "text": [
      "Epoch 1/40\n",
      "5274/5274 [==============================] - 35s 7ms/step - acc: 0.6727 - loss: 0.6174 - mse: 0.2130 - val_mse: 0.2051 - val_acc: 0.6877 - val_loss: 0.5979\n",
      "Epoch 2/40\n",
      "5274/5274 [==============================] - 32s 6ms/step - acc: 0.6732 - loss: 0.6163 - mse: 0.2127 - val_mse: 0.2085 - val_acc: 0.6771 - val_loss: 0.6051\n",
      "Epoch 3/40\n",
      "5274/5274 [==============================] - 28s 5ms/step - acc: 0.6736 - loss: 0.6160 - mse: 0.2126 - val_mse: 0.2045 - val_acc: 0.6896 - val_loss: 0.5965\n",
      "Epoch 4/40\n",
      "5274/5274 [==============================] - 31s 6ms/step - acc: 0.6740 - loss: 0.6154 - mse: 0.2122 - val_mse: 0.2043 - val_acc: 0.6890 - val_loss: 0.5960\n",
      "Epoch 5/40\n",
      "5274/5274 [==============================] - 15s 3ms/step - acc: 0.6741 - loss: 0.6153 - mse: 0.2123 - val_mse: 0.2043 - val_acc: 0.6888 - val_loss: 0.5959\n",
      "Epoch 6/40\n",
      "5274/5274 [==============================] - 10s 2ms/step - acc: 0.6742 - loss: 0.6151 - mse: 0.2122 - val_mse: 0.2070 - val_acc: 0.6814 - val_loss: 0.6018\n",
      "Epoch 7/40\n",
      "5274/5274 [==============================] - 10s 2ms/step - acc: 0.6745 - loss: 0.6151 - mse: 0.2122 - val_mse: 0.2125 - val_acc: 0.6743 - val_loss: 0.6147\n",
      "Epoch 8/40\n",
      "5274/5274 [==============================] - 10s 2ms/step - acc: 0.6710 - loss: 0.6175 - mse: 0.2135 - val_mse: 0.2038 - val_acc: 0.6909 - val_loss: 0.5953\n",
      "Epoch 9/40\n",
      "5274/5274 [==============================] - 10s 2ms/step - acc: 0.6748 - loss: 0.6151 - mse: 0.2122 - val_mse: 0.2041 - val_acc: 0.6893 - val_loss: 0.5957\n",
      "Epoch 10/40\n",
      "5274/5274 [==============================] - 10s 2ms/step - acc: 0.6728 - loss: 0.6162 - mse: 0.2127 - val_mse: 0.2104 - val_acc: 0.6800 - val_loss: 0.6101\n",
      "Epoch 11/40\n",
      "5274/5274 [==============================] - 10s 2ms/step - acc: 0.6747 - loss: 0.6149 - mse: 0.2123 - val_mse: 0.2039 - val_acc: 0.6898 - val_loss: 0.5952\n",
      "Epoch 12/40\n",
      "5274/5274 [==============================] - 10s 2ms/step - acc: 0.6729 - loss: 0.6156 - mse: 0.2126 - val_mse: 0.2043 - val_acc: 0.6890 - val_loss: 0.5966\n",
      "Epoch 13/40\n",
      "5274/5274 [==============================] - 10s 2ms/step - acc: 0.6725 - loss: 0.6166 - mse: 0.2130 - val_mse: 0.2086 - val_acc: 0.6839 - val_loss: 0.6057\n",
      "Epoch 14/40\n",
      "5274/5274 [==============================] - 10s 2ms/step - acc: 0.6691 - loss: 0.6188 - mse: 0.2142 - val_mse: 0.2053 - val_acc: 0.6878 - val_loss: 0.5983\n",
      "Epoch 15/40\n",
      "5274/5274 [==============================] - 10s 2ms/step - acc: 0.6756 - loss: 0.6138 - mse: 0.2116 - val_mse: 0.2040 - val_acc: 0.6894 - val_loss: 0.5953\n",
      "Epoch 16/40\n",
      "5274/5274 [==============================] - 10s 2ms/step - acc: 0.6720 - loss: 0.6170 - mse: 0.2131 - val_mse: 0.2042 - val_acc: 0.6893 - val_loss: 0.5960\n",
      "Epoch 17/40\n",
      "5274/5274 [==============================] - 10s 2ms/step - acc: 0.6730 - loss: 0.6162 - mse: 0.2129 - val_mse: 0.2248 - val_acc: 0.6374 - val_loss: 0.6410\n",
      "Epoch 18/40\n",
      "5274/5274 [==============================] - 10s 2ms/step - acc: 0.6718 - loss: 0.6172 - mse: 0.2132 - val_mse: 0.2038 - val_acc: 0.6906 - val_loss: 0.5953\n",
      "Epoch 19/40\n",
      "5274/5274 [==============================] - 11s 2ms/step - acc: 0.6762 - loss: 0.6136 - mse: 0.2114 - val_mse: 0.2040 - val_acc: 0.6896 - val_loss: 0.5961\n",
      "Epoch 20/40\n",
      "5274/5274 [==============================] - 10s 2ms/step - acc: 0.6754 - loss: 0.6138 - mse: 0.2117 - val_mse: 0.2039 - val_acc: 0.6884 - val_loss: 0.5953\n",
      "Epoch 21/40\n",
      "5274/5274 [==============================] - 10s 2ms/step - acc: 0.6763 - loss: 0.6132 - mse: 0.2114 - val_mse: 0.2036 - val_acc: 0.6898 - val_loss: 0.5946\n",
      "Epoch 22/40\n",
      "5274/5274 [==============================] - 10s 2ms/step - acc: 0.6762 - loss: 0.6133 - mse: 0.2115 - val_mse: 0.2033 - val_acc: 0.6899 - val_loss: 0.5940\n",
      "Epoch 23/40\n",
      "5274/5274 [==============================] - 10s 2ms/step - acc: 0.6769 - loss: 0.6127 - mse: 0.2112 - val_mse: 0.2037 - val_acc: 0.6898 - val_loss: 0.5958\n",
      "Epoch 24/40\n",
      "5274/5274 [==============================] - 10s 2ms/step - acc: 0.6764 - loss: 0.6134 - mse: 0.2114 - val_mse: 0.2036 - val_acc: 0.6896 - val_loss: 0.5952\n",
      "Epoch 25/40\n",
      "5274/5274 [==============================] - 10s 2ms/step - acc: 0.6770 - loss: 0.6124 - mse: 0.2111 - val_mse: 0.2037 - val_acc: 0.6890 - val_loss: 0.5962\n",
      "Epoch 26/40\n",
      "5274/5274 [==============================] - 10s 2ms/step - acc: 0.6770 - loss: 0.6129 - mse: 0.2112 - val_mse: 0.2037 - val_acc: 0.6905 - val_loss: 0.5959\n",
      "Epoch 27/40\n",
      "5274/5274 [==============================] - 10s 2ms/step - acc: 0.6774 - loss: 0.6123 - mse: 0.2110 - val_mse: 0.2037 - val_acc: 0.6892 - val_loss: 0.5954\n",
      "Epoch 28/40\n",
      "5274/5274 [==============================] - 10s 2ms/step - acc: 0.6773 - loss: 0.6121 - mse: 0.2109 - val_mse: 0.2038 - val_acc: 0.6892 - val_loss: 0.5962\n",
      "Epoch 29/40\n",
      "5274/5274 [==============================] - 10s 2ms/step - acc: 0.6776 - loss: 0.6121 - mse: 0.2109 - val_mse: 0.2037 - val_acc: 0.6894 - val_loss: 0.5957\n",
      "Epoch 30/40\n",
      "5274/5274 [==============================] - 11s 2ms/step - acc: 0.6679 - loss: 0.6210 - mse: 0.2152 - val_mse: 0.2035 - val_acc: 0.6917 - val_loss: 0.5942\n",
      "Epoch 31/40\n",
      "5274/5274 [==============================] - 11s 2ms/step - acc: 0.6763 - loss: 0.6128 - mse: 0.2113 - val_mse: 0.2033 - val_acc: 0.6909 - val_loss: 0.5942\n",
      "Epoch 32/40\n",
      "5274/5274 [==============================] - 11s 2ms/step - acc: 0.6766 - loss: 0.6125 - mse: 0.2112 - val_mse: 0.2036 - val_acc: 0.6896 - val_loss: 0.5947\n",
      "Epoch 33/40\n",
      "5274/5274 [==============================] - 11s 2ms/step - acc: 0.6744 - loss: 0.6145 - mse: 0.2121 - val_mse: 0.2107 - val_acc: 0.6615 - val_loss: 0.6105\n",
      "Epoch 34/40\n",
      "5274/5274 [==============================] - 10s 2ms/step - acc: 0.6768 - loss: 0.6126 - mse: 0.2110 - val_mse: 0.2042 - val_acc: 0.6890 - val_loss: 0.5966\n",
      "Epoch 35/40\n",
      "5274/5274 [==============================] - 11s 2ms/step - acc: 0.6768 - loss: 0.6124 - mse: 0.2109 - val_mse: 0.2035 - val_acc: 0.6903 - val_loss: 0.5958\n",
      "Epoch 36/40\n",
      "5274/5274 [==============================] - 10s 2ms/step - acc: 0.6771 - loss: 0.6120 - mse: 0.2108 - val_mse: 0.2046 - val_acc: 0.6875 - val_loss: 0.5969\n",
      "Epoch 37/40\n",
      "5274/5274 [==============================] - 10s 2ms/step - acc: 0.6769 - loss: 0.6120 - mse: 0.2109 - val_mse: 0.2035 - val_acc: 0.6896 - val_loss: 0.5948\n",
      "Epoch 38/40\n",
      "5274/5274 [==============================] - 10s 2ms/step - acc: 0.6766 - loss: 0.6124 - mse: 0.2111 - val_mse: 0.2040 - val_acc: 0.6890 - val_loss: 0.5957\n",
      "Epoch 39/40\n",
      "5274/5274 [==============================] - 10s 2ms/step - acc: 0.6761 - loss: 0.6131 - mse: 0.2113 - val_mse: 0.2043 - val_acc: 0.6906 - val_loss: 0.5962\n",
      "Epoch 40/40\n",
      "5274/5274 [==============================] - 10s 2ms/step - acc: 0.6760 - loss: 0.6126 - mse: 0.2112 - val_mse: 0.2043 - val_acc: 0.6886 - val_loss: 0.5959\n"
     ]
    }
   ],
   "source": [
    "snn = snn_model.fit(x=x_train, y=y_train, batch_size=64, epochs=40, verbose=1, validation_data=(x_valid, y_valid), shuffle=False)"
   ]
  },
  {
   "cell_type": "code",
   "execution_count": 42,
   "metadata": {},
   "outputs": [],
   "source": [
    "classes = snn_model.predict(x_valid, batch_size=64)"
   ]
  },
  {
   "cell_type": "code",
   "execution_count": 43,
   "metadata": {},
   "outputs": [],
   "source": [
    "signal = ROOT.TH1F(\"\", \"\", 100, -1, 1)\n",
    "background = ROOT.TH1F(\"\", \"\", 100, -1, 1)\n",
    "\n",
    "signal.SetLineColor(ROOT.kBlue)\n",
    "background.SetLineColor(ROOT.kRed)\n",
    "\n",
    "for real, valid in zip(y_valid, classes):\n",
    "    if real == 0:\n",
    "        background.Fill(valid)\n",
    "    else:\n",
    "        signal.Fill(valid)"
   ]
  },
  {
   "cell_type": "code",
   "execution_count": 44,
   "metadata": {},
   "outputs": [],
   "source": [
    "background.Scale(1. / background.Integral())\n",
    "signal.Scale(1. / signal.Integral())"
   ]
  },
  {
   "cell_type": "code",
   "execution_count": 45,
   "metadata": {},
   "outputs": [
    {
     "data": {
      "image/png": "[encoded data removed]",
      "text/plain": [
       "<IPython.core.display.Image object>"
      ]
     },
     "metadata": {},
     "output_type": "display_data"
    }
   ],
   "source": [
    "c = ROOT.TCanvas(\"\", \"\", 800, 800)\n",
    "signal.Draw(\"histo, same\")\n",
    "background.Draw(\"histo, same\")\n",
    "\n",
    "\n",
    "c.Draw()"
   ]
  },
  {
   "cell_type": "code",
   "execution_count": null,
   "metadata": {},
   "outputs": [],
   "source": [
    "snn_model.save(\"my_model.h5\")"
   ]
  },
  {
   "cell_type": "markdown",
   "metadata": {},
   "source": [
    "### Model to HLS\n",
    "import hls4ml\n",
    "\n",
    "from tensorflow.keras.models import load_model\n",
    "\n",
    "model = load_model(\"my_model.h5\")\n",
    "\n",
    "config = hls4ml.utils.config_from_keras_model(model, granularity='name')\n",
    "\n",
    "hls_model = hls4ml.converters.convert_from_keras_model(model, hls_config=config, output_dir='test_prj')\n",
    "\n",
    "hls_model.write()"
   ]
  },
  {
   "cell_type": "code",
   "execution_count": null,
   "metadata": {},
   "outputs": [],
   "source": []
  }
 ],
 "metadata": {
  "kernelspec": {
   "display_name": "Python 2",
   "language": "python",
   "name": "python2"
  },
  "language_info": {
   "codemirror_mode": {
    "name": "ipython",
    "version": 2
   },
   "file_extension": ".py",
   "mimetype": "text/x-python",
   "name": "python",
   "nbconvert_exporter": "python",
   "pygments_lexer": "ipython2",
   "version": "2.7.15+"
  }
 },
 "nbformat": 4,
 "nbformat_minor": 2
}
